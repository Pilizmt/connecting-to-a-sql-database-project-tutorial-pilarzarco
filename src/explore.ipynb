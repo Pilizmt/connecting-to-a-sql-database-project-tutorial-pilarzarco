{
 "cells": [
  {
   "cell_type": "markdown",
   "metadata": {},
   "source": [
    "# Práctica \"TITANIC\""
   ]
  },
  {
   "cell_type": "code",
   "execution_count": 21,
   "metadata": {},
   "outputs": [],
   "source": [
    "# Responder a las siguientes preguntas usando SQL sobre la tabla que acabáis de crear:\n",
    "# Cuántos supervivientes hay (columna Survived)\n",
    "# De todos los pasajeros, cuántos hombres y mujeres hay (columna Sex)\n",
    "# Cuál es el valor del ticket más caro que se compró (columna Fare)\n",
    "\n",
    "import sqlite3 as sq\n",
    "import requests\n",
    "import csv\n",
    "import pandas as pd\n",
    "# Create tables for (https://raw.githubusercontent.com/4GeeksAcademy/machine-learning-content/master/assets/titanic_train.csv)\n",
    "\n",
    "# Create conexion and create titatin.db\n",
    "con = sq.connect(\"titanic.db\")\n",
    "# # con.close()\n",
    "\n",
    "cursor = con.cursor()\n",
    "\n"
   ]
  },
  {
   "cell_type": "code",
   "execution_count": 22,
   "metadata": {},
   "outputs": [
    {
     "ename": "OperationalError",
     "evalue": "table Passenger already exists",
     "output_type": "error",
     "traceback": [
      "\u001b[0;31m---------------------------------------------------------------------------\u001b[0m",
      "\u001b[0;31mOperationalError\u001b[0m                          Traceback (most recent call last)",
      "\u001b[1;32m/workspaces/connecting-to-a-sql-database-project-tutorial-pilarzarco/src/explore.ipynb Celda 3\u001b[0m line \u001b[0;36m4\n\u001b[1;32m      <a href='vscode-notebook-cell://codespaces%2Blegendary-fiesta-5gqrv6pvpr9v24xgj/workspaces/connecting-to-a-sql-database-project-tutorial-pilarzarco/src/explore.ipynb#W6sdnNjb2RlLXJlbW90ZQ%3D%3D?line=0'>1</a>\u001b[0m \u001b[39m# PassengerId,Survived,Pclass,Name,Sex,Age,SibSp,Parch,Ticket,Fare,Cabin,Embarked\u001b[39;00m\n\u001b[1;32m      <a href='vscode-notebook-cell://codespaces%2Blegendary-fiesta-5gqrv6pvpr9v24xgj/workspaces/connecting-to-a-sql-database-project-tutorial-pilarzarco/src/explore.ipynb#W6sdnNjb2RlLXJlbW90ZQ%3D%3D?line=1'>2</a>\u001b[0m \n\u001b[1;32m      <a href='vscode-notebook-cell://codespaces%2Blegendary-fiesta-5gqrv6pvpr9v24xgj/workspaces/connecting-to-a-sql-database-project-tutorial-pilarzarco/src/explore.ipynb#W6sdnNjb2RlLXJlbW90ZQ%3D%3D?line=2'>3</a>\u001b[0m \u001b[39m# Crear la tabla:\u001b[39;00m\n\u001b[0;32m----> <a href='vscode-notebook-cell://codespaces%2Blegendary-fiesta-5gqrv6pvpr9v24xgj/workspaces/connecting-to-a-sql-database-project-tutorial-pilarzarco/src/explore.ipynb#W6sdnNjb2RlLXJlbW90ZQ%3D%3D?line=3'>4</a>\u001b[0m con\u001b[39m.\u001b[39;49mexecute(\u001b[39m\"\"\"\u001b[39;49m\u001b[39mCREATE TABLE Passenger (\u001b[39;49m\n\u001b[1;32m      <a href='vscode-notebook-cell://codespaces%2Blegendary-fiesta-5gqrv6pvpr9v24xgj/workspaces/connecting-to-a-sql-database-project-tutorial-pilarzarco/src/explore.ipynb#W6sdnNjb2RlLXJlbW90ZQ%3D%3D?line=4'>5</a>\u001b[0m \u001b[39m    PassengerId INT PRIMARY KEY,\u001b[39;49m\n\u001b[1;32m      <a href='vscode-notebook-cell://codespaces%2Blegendary-fiesta-5gqrv6pvpr9v24xgj/workspaces/connecting-to-a-sql-database-project-tutorial-pilarzarco/src/explore.ipynb#W6sdnNjb2RlLXJlbW90ZQ%3D%3D?line=5'>6</a>\u001b[0m \u001b[39m    Survived INT NOT NULL,\u001b[39;49m\n\u001b[1;32m      <a href='vscode-notebook-cell://codespaces%2Blegendary-fiesta-5gqrv6pvpr9v24xgj/workspaces/connecting-to-a-sql-database-project-tutorial-pilarzarco/src/explore.ipynb#W6sdnNjb2RlLXJlbW90ZQ%3D%3D?line=6'>7</a>\u001b[0m \u001b[39m    Pclass INT NOT NULL,\u001b[39;49m\n\u001b[1;32m      <a href='vscode-notebook-cell://codespaces%2Blegendary-fiesta-5gqrv6pvpr9v24xgj/workspaces/connecting-to-a-sql-database-project-tutorial-pilarzarco/src/explore.ipynb#W6sdnNjb2RlLXJlbW90ZQ%3D%3D?line=7'>8</a>\u001b[0m \u001b[39m    Name VARCHAR(255) NOT NULL,\u001b[39;49m\n\u001b[1;32m      <a href='vscode-notebook-cell://codespaces%2Blegendary-fiesta-5gqrv6pvpr9v24xgj/workspaces/connecting-to-a-sql-database-project-tutorial-pilarzarco/src/explore.ipynb#W6sdnNjb2RlLXJlbW90ZQ%3D%3D?line=8'>9</a>\u001b[0m \u001b[39m    Sex VARCHAR(10) NOT NULL,\u001b[39;49m\n\u001b[1;32m     <a href='vscode-notebook-cell://codespaces%2Blegendary-fiesta-5gqrv6pvpr9v24xgj/workspaces/connecting-to-a-sql-database-project-tutorial-pilarzarco/src/explore.ipynb#W6sdnNjb2RlLXJlbW90ZQ%3D%3D?line=9'>10</a>\u001b[0m \u001b[39m    Age FLOAT NOT NULL,\u001b[39;49m\n\u001b[1;32m     <a href='vscode-notebook-cell://codespaces%2Blegendary-fiesta-5gqrv6pvpr9v24xgj/workspaces/connecting-to-a-sql-database-project-tutorial-pilarzarco/src/explore.ipynb#W6sdnNjb2RlLXJlbW90ZQ%3D%3D?line=10'>11</a>\u001b[0m \u001b[39m    SibSp INT NOT NULL,\u001b[39;49m\n\u001b[1;32m     <a href='vscode-notebook-cell://codespaces%2Blegendary-fiesta-5gqrv6pvpr9v24xgj/workspaces/connecting-to-a-sql-database-project-tutorial-pilarzarco/src/explore.ipynb#W6sdnNjb2RlLXJlbW90ZQ%3D%3D?line=11'>12</a>\u001b[0m \u001b[39m    Parch INT NOT NULL,\u001b[39;49m\n\u001b[1;32m     <a href='vscode-notebook-cell://codespaces%2Blegendary-fiesta-5gqrv6pvpr9v24xgj/workspaces/connecting-to-a-sql-database-project-tutorial-pilarzarco/src/explore.ipynb#W6sdnNjb2RlLXJlbW90ZQ%3D%3D?line=12'>13</a>\u001b[0m \u001b[39m    Ticket VARCHAR(255) NOT NULL,\u001b[39;49m\n\u001b[1;32m     <a href='vscode-notebook-cell://codespaces%2Blegendary-fiesta-5gqrv6pvpr9v24xgj/workspaces/connecting-to-a-sql-database-project-tutorial-pilarzarco/src/explore.ipynb#W6sdnNjb2RlLXJlbW90ZQ%3D%3D?line=13'>14</a>\u001b[0m \u001b[39m    Fare FLOAT NOT NULL,\u001b[39;49m\n\u001b[1;32m     <a href='vscode-notebook-cell://codespaces%2Blegendary-fiesta-5gqrv6pvpr9v24xgj/workspaces/connecting-to-a-sql-database-project-tutorial-pilarzarco/src/explore.ipynb#W6sdnNjb2RlLXJlbW90ZQ%3D%3D?line=14'>15</a>\u001b[0m \u001b[39m    Cabin VARCHAR(255),\u001b[39;49m\n\u001b[1;32m     <a href='vscode-notebook-cell://codespaces%2Blegendary-fiesta-5gqrv6pvpr9v24xgj/workspaces/connecting-to-a-sql-database-project-tutorial-pilarzarco/src/explore.ipynb#W6sdnNjb2RlLXJlbW90ZQ%3D%3D?line=15'>16</a>\u001b[0m \u001b[39m    Embarked VARCHAR(1) NOT NULL\u001b[39;49m\n\u001b[1;32m     <a href='vscode-notebook-cell://codespaces%2Blegendary-fiesta-5gqrv6pvpr9v24xgj/workspaces/connecting-to-a-sql-database-project-tutorial-pilarzarco/src/explore.ipynb#W6sdnNjb2RlLXJlbW90ZQ%3D%3D?line=16'>17</a>\u001b[0m \u001b[39m)\u001b[39;49m\u001b[39m\"\"\"\u001b[39;49m)\n\u001b[1;32m     <a href='vscode-notebook-cell://codespaces%2Blegendary-fiesta-5gqrv6pvpr9v24xgj/workspaces/connecting-to-a-sql-database-project-tutorial-pilarzarco/src/explore.ipynb#W6sdnNjb2RlLXJlbW90ZQ%3D%3D?line=18'>19</a>\u001b[0m con\u001b[39m.\u001b[39mcommit()\n\u001b[1;32m     <a href='vscode-notebook-cell://codespaces%2Blegendary-fiesta-5gqrv6pvpr9v24xgj/workspaces/connecting-to-a-sql-database-project-tutorial-pilarzarco/src/explore.ipynb#W6sdnNjb2RlLXJlbW90ZQ%3D%3D?line=20'>21</a>\u001b[0m con\u001b[39m.\u001b[39mclose()\n",
      "\u001b[0;31mOperationalError\u001b[0m: table Passenger already exists"
     ]
    }
   ],
   "source": [
    "\n",
    "# PassengerId,Survived,Pclass,Name,Sex,Age,SibSp,Parch,Ticket,Fare,Cabin,Embarked\n",
    "\n",
    "# Crear la tabla:\n",
    "con.execute(\"\"\"CREATE TABLE Passenger (\n",
    "    PassengerId INT PRIMARY KEY,\n",
    "    Survived INT NOT NULL,\n",
    "    Pclass INT NOT NULL,\n",
    "    Name VARCHAR(255) NOT NULL,\n",
    "    Sex VARCHAR(10) NOT NULL,\n",
    "    Age FLOAT NOT NULL,\n",
    "    SibSp INT NOT NULL,\n",
    "    Parch INT NOT NULL,\n",
    "    Ticket VARCHAR(255) NOT NULL,\n",
    "    Fare FLOAT NOT NULL,\n",
    "    Cabin VARCHAR(255),\n",
    "    Embarked VARCHAR(1) NOT NULL\n",
    ")\"\"\")\n",
    "\n",
    "con.commit()\n",
    "\n",
    "con.close()\n"
   ]
  },
  {
   "cell_type": "code",
   "execution_count": null,
   "metadata": {},
   "outputs": [
    {
     "ename": "FileNotFoundError",
     "evalue": "[Errno 2] No such file or directory: '\\\\titanic_train.csv'",
     "output_type": "error",
     "traceback": [
      "\u001b[0;31m---------------------------------------------------------------------------\u001b[0m",
      "\u001b[0;31mFileNotFoundError\u001b[0m                         Traceback (most recent call last)",
      "\u001b[1;32m/workspaces/connecting-to-a-sql-database-project-tutorial-pilarzarco/src/explore.ipynb Celda 4\u001b[0m line \u001b[0;36m1\n\u001b[1;32m      <a href='vscode-notebook-cell://codespaces%2Blegendary-fiesta-5gqrv6pvpr9v24xgj/workspaces/connecting-to-a-sql-database-project-tutorial-pilarzarco/src/explore.ipynb#X10sdnNjb2RlLXJlbW90ZQ%3D%3D?line=0'>1</a>\u001b[0m \u001b[39m# # Ejecutar la consulta para eliminar la tabla\u001b[39;00m\n\u001b[1;32m      <a href='vscode-notebook-cell://codespaces%2Blegendary-fiesta-5gqrv6pvpr9v24xgj/workspaces/connecting-to-a-sql-database-project-tutorial-pilarzarco/src/explore.ipynb#X10sdnNjb2RlLXJlbW90ZQ%3D%3D?line=1'>2</a>\u001b[0m \u001b[39m# cursor.execute(\"DROP TABLE IF EXISTS Passenger\")\u001b[39;00m\n\u001b[1;32m      <a href='vscode-notebook-cell://codespaces%2Blegendary-fiesta-5gqrv6pvpr9v24xgj/workspaces/connecting-to-a-sql-database-project-tutorial-pilarzarco/src/explore.ipynb#X10sdnNjb2RlLXJlbW90ZQ%3D%3D?line=2'>3</a>\u001b[0m \n\u001b[0;32m   (...)\u001b[0m\n\u001b[1;32m     <a href='vscode-notebook-cell://codespaces%2Blegendary-fiesta-5gqrv6pvpr9v24xgj/workspaces/connecting-to-a-sql-database-project-tutorial-pilarzarco/src/explore.ipynb#X10sdnNjb2RlLXJlbW90ZQ%3D%3D?line=10'>11</a>\u001b[0m \n\u001b[1;32m     <a href='vscode-notebook-cell://codespaces%2Blegendary-fiesta-5gqrv6pvpr9v24xgj/workspaces/connecting-to-a-sql-database-project-tutorial-pilarzarco/src/explore.ipynb#X10sdnNjb2RlLXJlbW90ZQ%3D%3D?line=11'>12</a>\u001b[0m \u001b[39m# Agregar los datos\u001b[39;00m\n\u001b[0;32m---> <a href='vscode-notebook-cell://codespaces%2Blegendary-fiesta-5gqrv6pvpr9v24xgj/workspaces/connecting-to-a-sql-database-project-tutorial-pilarzarco/src/explore.ipynb#X10sdnNjb2RlLXJlbW90ZQ%3D%3D?line=12'>13</a>\u001b[0m df \u001b[39m=\u001b[39m pd\u001b[39m.\u001b[39;49mread_csv(\u001b[39mr\u001b[39;49m\u001b[39m\"\u001b[39;49m\u001b[39m\\\u001b[39;49m\u001b[39mtitanic_train.csv\u001b[39;49m\u001b[39m\"\u001b[39;49m)\n\u001b[1;32m     <a href='vscode-notebook-cell://codespaces%2Blegendary-fiesta-5gqrv6pvpr9v24xgj/workspaces/connecting-to-a-sql-database-project-tutorial-pilarzarco/src/explore.ipynb#X10sdnNjb2RlLXJlbW90ZQ%3D%3D?line=13'>14</a>\u001b[0m df\u001b[39m.\u001b[39mto_sql(\u001b[39m\"\u001b[39m\u001b[39mPassenger\u001b[39m\u001b[39m\"\u001b[39m, con, if_exists\u001b[39m=\u001b[39m\u001b[39m\"\u001b[39m\u001b[39mreplace\u001b[39m\u001b[39m\"\u001b[39m, index\u001b[39m=\u001b[39m\u001b[39mFalse\u001b[39;00m)\n\u001b[1;32m     <a href='vscode-notebook-cell://codespaces%2Blegendary-fiesta-5gqrv6pvpr9v24xgj/workspaces/connecting-to-a-sql-database-project-tutorial-pilarzarco/src/explore.ipynb#X10sdnNjb2RlLXJlbW90ZQ%3D%3D?line=14'>15</a>\u001b[0m con\u001b[39m.\u001b[39mclose()\n",
      "File \u001b[0;32m~/.local/lib/python3.10/site-packages/pandas/io/parsers/readers.py:948\u001b[0m, in \u001b[0;36mread_csv\u001b[0;34m(filepath_or_buffer, sep, delimiter, header, names, index_col, usecols, dtype, engine, converters, true_values, false_values, skipinitialspace, skiprows, skipfooter, nrows, na_values, keep_default_na, na_filter, verbose, skip_blank_lines, parse_dates, infer_datetime_format, keep_date_col, date_parser, date_format, dayfirst, cache_dates, iterator, chunksize, compression, thousands, decimal, lineterminator, quotechar, quoting, doublequote, escapechar, comment, encoding, encoding_errors, dialect, on_bad_lines, delim_whitespace, low_memory, memory_map, float_precision, storage_options, dtype_backend)\u001b[0m\n\u001b[1;32m    935\u001b[0m kwds_defaults \u001b[39m=\u001b[39m _refine_defaults_read(\n\u001b[1;32m    936\u001b[0m     dialect,\n\u001b[1;32m    937\u001b[0m     delimiter,\n\u001b[0;32m   (...)\u001b[0m\n\u001b[1;32m    944\u001b[0m     dtype_backend\u001b[39m=\u001b[39mdtype_backend,\n\u001b[1;32m    945\u001b[0m )\n\u001b[1;32m    946\u001b[0m kwds\u001b[39m.\u001b[39mupdate(kwds_defaults)\n\u001b[0;32m--> 948\u001b[0m \u001b[39mreturn\u001b[39;00m _read(filepath_or_buffer, kwds)\n",
      "File \u001b[0;32m~/.local/lib/python3.10/site-packages/pandas/io/parsers/readers.py:611\u001b[0m, in \u001b[0;36m_read\u001b[0;34m(filepath_or_buffer, kwds)\u001b[0m\n\u001b[1;32m    608\u001b[0m _validate_names(kwds\u001b[39m.\u001b[39mget(\u001b[39m\"\u001b[39m\u001b[39mnames\u001b[39m\u001b[39m\"\u001b[39m, \u001b[39mNone\u001b[39;00m))\n\u001b[1;32m    610\u001b[0m \u001b[39m# Create the parser.\u001b[39;00m\n\u001b[0;32m--> 611\u001b[0m parser \u001b[39m=\u001b[39m TextFileReader(filepath_or_buffer, \u001b[39m*\u001b[39;49m\u001b[39m*\u001b[39;49mkwds)\n\u001b[1;32m    613\u001b[0m \u001b[39mif\u001b[39;00m chunksize \u001b[39mor\u001b[39;00m iterator:\n\u001b[1;32m    614\u001b[0m     \u001b[39mreturn\u001b[39;00m parser\n",
      "File \u001b[0;32m~/.local/lib/python3.10/site-packages/pandas/io/parsers/readers.py:1448\u001b[0m, in \u001b[0;36mTextFileReader.__init__\u001b[0;34m(self, f, engine, **kwds)\u001b[0m\n\u001b[1;32m   1445\u001b[0m     \u001b[39mself\u001b[39m\u001b[39m.\u001b[39moptions[\u001b[39m\"\u001b[39m\u001b[39mhas_index_names\u001b[39m\u001b[39m\"\u001b[39m] \u001b[39m=\u001b[39m kwds[\u001b[39m\"\u001b[39m\u001b[39mhas_index_names\u001b[39m\u001b[39m\"\u001b[39m]\n\u001b[1;32m   1447\u001b[0m \u001b[39mself\u001b[39m\u001b[39m.\u001b[39mhandles: IOHandles \u001b[39m|\u001b[39m \u001b[39mNone\u001b[39;00m \u001b[39m=\u001b[39m \u001b[39mNone\u001b[39;00m\n\u001b[0;32m-> 1448\u001b[0m \u001b[39mself\u001b[39m\u001b[39m.\u001b[39m_engine \u001b[39m=\u001b[39m \u001b[39mself\u001b[39;49m\u001b[39m.\u001b[39;49m_make_engine(f, \u001b[39mself\u001b[39;49m\u001b[39m.\u001b[39;49mengine)\n",
      "File \u001b[0;32m~/.local/lib/python3.10/site-packages/pandas/io/parsers/readers.py:1705\u001b[0m, in \u001b[0;36mTextFileReader._make_engine\u001b[0;34m(self, f, engine)\u001b[0m\n\u001b[1;32m   1703\u001b[0m     \u001b[39mif\u001b[39;00m \u001b[39m\"\u001b[39m\u001b[39mb\u001b[39m\u001b[39m\"\u001b[39m \u001b[39mnot\u001b[39;00m \u001b[39min\u001b[39;00m mode:\n\u001b[1;32m   1704\u001b[0m         mode \u001b[39m+\u001b[39m\u001b[39m=\u001b[39m \u001b[39m\"\u001b[39m\u001b[39mb\u001b[39m\u001b[39m\"\u001b[39m\n\u001b[0;32m-> 1705\u001b[0m \u001b[39mself\u001b[39m\u001b[39m.\u001b[39mhandles \u001b[39m=\u001b[39m get_handle(\n\u001b[1;32m   1706\u001b[0m     f,\n\u001b[1;32m   1707\u001b[0m     mode,\n\u001b[1;32m   1708\u001b[0m     encoding\u001b[39m=\u001b[39;49m\u001b[39mself\u001b[39;49m\u001b[39m.\u001b[39;49moptions\u001b[39m.\u001b[39;49mget(\u001b[39m\"\u001b[39;49m\u001b[39mencoding\u001b[39;49m\u001b[39m\"\u001b[39;49m, \u001b[39mNone\u001b[39;49;00m),\n\u001b[1;32m   1709\u001b[0m     compression\u001b[39m=\u001b[39;49m\u001b[39mself\u001b[39;49m\u001b[39m.\u001b[39;49moptions\u001b[39m.\u001b[39;49mget(\u001b[39m\"\u001b[39;49m\u001b[39mcompression\u001b[39;49m\u001b[39m\"\u001b[39;49m, \u001b[39mNone\u001b[39;49;00m),\n\u001b[1;32m   1710\u001b[0m     memory_map\u001b[39m=\u001b[39;49m\u001b[39mself\u001b[39;49m\u001b[39m.\u001b[39;49moptions\u001b[39m.\u001b[39;49mget(\u001b[39m\"\u001b[39;49m\u001b[39mmemory_map\u001b[39;49m\u001b[39m\"\u001b[39;49m, \u001b[39mFalse\u001b[39;49;00m),\n\u001b[1;32m   1711\u001b[0m     is_text\u001b[39m=\u001b[39;49mis_text,\n\u001b[1;32m   1712\u001b[0m     errors\u001b[39m=\u001b[39;49m\u001b[39mself\u001b[39;49m\u001b[39m.\u001b[39;49moptions\u001b[39m.\u001b[39;49mget(\u001b[39m\"\u001b[39;49m\u001b[39mencoding_errors\u001b[39;49m\u001b[39m\"\u001b[39;49m, \u001b[39m\"\u001b[39;49m\u001b[39mstrict\u001b[39;49m\u001b[39m\"\u001b[39;49m),\n\u001b[1;32m   1713\u001b[0m     storage_options\u001b[39m=\u001b[39;49m\u001b[39mself\u001b[39;49m\u001b[39m.\u001b[39;49moptions\u001b[39m.\u001b[39;49mget(\u001b[39m\"\u001b[39;49m\u001b[39mstorage_options\u001b[39;49m\u001b[39m\"\u001b[39;49m, \u001b[39mNone\u001b[39;49;00m),\n\u001b[1;32m   1714\u001b[0m )\n\u001b[1;32m   1715\u001b[0m \u001b[39massert\u001b[39;00m \u001b[39mself\u001b[39m\u001b[39m.\u001b[39mhandles \u001b[39mis\u001b[39;00m \u001b[39mnot\u001b[39;00m \u001b[39mNone\u001b[39;00m\n\u001b[1;32m   1716\u001b[0m f \u001b[39m=\u001b[39m \u001b[39mself\u001b[39m\u001b[39m.\u001b[39mhandles\u001b[39m.\u001b[39mhandle\n",
      "File \u001b[0;32m~/.local/lib/python3.10/site-packages/pandas/io/common.py:863\u001b[0m, in \u001b[0;36mget_handle\u001b[0;34m(path_or_buf, mode, encoding, compression, memory_map, is_text, errors, storage_options)\u001b[0m\n\u001b[1;32m    858\u001b[0m \u001b[39melif\u001b[39;00m \u001b[39misinstance\u001b[39m(handle, \u001b[39mstr\u001b[39m):\n\u001b[1;32m    859\u001b[0m     \u001b[39m# Check whether the filename is to be opened in binary mode.\u001b[39;00m\n\u001b[1;32m    860\u001b[0m     \u001b[39m# Binary mode does not support 'encoding' and 'newline'.\u001b[39;00m\n\u001b[1;32m    861\u001b[0m     \u001b[39mif\u001b[39;00m ioargs\u001b[39m.\u001b[39mencoding \u001b[39mand\u001b[39;00m \u001b[39m\"\u001b[39m\u001b[39mb\u001b[39m\u001b[39m\"\u001b[39m \u001b[39mnot\u001b[39;00m \u001b[39min\u001b[39;00m ioargs\u001b[39m.\u001b[39mmode:\n\u001b[1;32m    862\u001b[0m         \u001b[39m# Encoding\u001b[39;00m\n\u001b[0;32m--> 863\u001b[0m         handle \u001b[39m=\u001b[39m \u001b[39mopen\u001b[39;49m(\n\u001b[1;32m    864\u001b[0m             handle,\n\u001b[1;32m    865\u001b[0m             ioargs\u001b[39m.\u001b[39;49mmode,\n\u001b[1;32m    866\u001b[0m             encoding\u001b[39m=\u001b[39;49mioargs\u001b[39m.\u001b[39;49mencoding,\n\u001b[1;32m    867\u001b[0m             errors\u001b[39m=\u001b[39;49merrors,\n\u001b[1;32m    868\u001b[0m             newline\u001b[39m=\u001b[39;49m\u001b[39m\"\u001b[39;49m\u001b[39m\"\u001b[39;49m,\n\u001b[1;32m    869\u001b[0m         )\n\u001b[1;32m    870\u001b[0m     \u001b[39melse\u001b[39;00m:\n\u001b[1;32m    871\u001b[0m         \u001b[39m# Binary mode\u001b[39;00m\n\u001b[1;32m    872\u001b[0m         handle \u001b[39m=\u001b[39m \u001b[39mopen\u001b[39m(handle, ioargs\u001b[39m.\u001b[39mmode)\n",
      "\u001b[0;31mFileNotFoundError\u001b[0m: [Errno 2] No such file or directory: '\\\\titanic_train.csv'"
     ]
    }
   ],
   "source": [
    "\n",
    "\n",
    "# # Ejecutar la consulta para eliminar la tabla\n",
    "# cursor.execute(\"DROP TABLE IF EXISTS Passenger\")\n",
    "\n",
    "# # Guardar los cambios en la base de datos\n",
    "# con.commit()\n",
    "\n",
    "# # Cierra la conexión\n",
    "# con.close()\n",
    "\n",
    "# print(\"La tabla Passenger ha sido eliminada.\")\n",
    "\n",
    "# Agregar los datos\n",
    "df = pd.read_csv(r\"\\titanic_train.csv\")\n",
    "df.to_sql(\"Passenger\", con, if_exists=\"replace\", index=False)\n",
    "con.close()\n",
    "\n",
    "df = pd.read_csv(r\"\\titanic_train.csv\")\n",
    "print(df.head())\n",
    "\n",
    "consult = \"SELECT * FROM passenger\"\n",
    "consult_passenger = pd.read_sql_query(consult, con)\n",
    "print(consult_passenger)"
   ]
  },
  {
   "cell_type": "code",
   "execution_count": null,
   "metadata": {},
   "outputs": [],
   "source": [
    "\n",
    "# 1) Cuántos supervivientes hay (columna Survived)\n",
    "cursor.execute(\"SELECT COUNT(*) FROM Passenger WHERE Survived = 1\")\n",
    "quantity_survived = cursor.fetchone()[0]\n",
    "print(\"Quantity survived:\", quantity_survived)\n",
    "\n",
    "# 2) De todos los pasajeros, cuántos hombres y mujeres hay (columna Sex)\n",
    "cursor.execute(\"SELECT SE)\n",
    "result = cursor.fetchall()\n",
    "for row in result:\n",
    "    sex, quantity = row\n",
    "    print(f\"sex: {sex}, Quantity: {quantity}\")\n",
    "\n",
    "# 3) Cuál es el valor del ticket más caro que se compró (columna Fare)\n",
    "cursor.execute(\"SELECT MAX(fare) FROM passenger\")\n",
    "max_value_ticket = cursor.fetchone()[0]\n",
    "con.close()\n",
    "print(\"Maximum ticket value:\", max_value_ticket)"
   ]
  },
  {
   "cell_type": "markdown",
   "metadata": {},
   "source": [
    "# Explore here\n",
    "\n",
    "It's recommended to use this notebook for exploration purposes.\n",
    "\n",
    "For example: \n",
    "\n",
    "1. You could import the CSV generated by python into your notebook and explore it.\n",
    "2. You could connect to your database using `pandas.read_sql` from this notebook and explore it."
   ]
  },
  {
   "cell_type": "code",
   "execution_count": null,
   "metadata": {},
   "outputs": [],
   "source": [
    "# Example reading the SQL database from here\n",
    "\n",
    "# from dotenv import load_dotenv\n",
    "# from sqlalchemy import create_engine\n",
    "# import pandas as pd\n",
    "\n",
    "# # load the .env file variables\n",
    "# load_dotenv()\n",
    "\n",
    "# connection_string = f\"mysql+pymysql://{os.getenv('DB_USER')}:{os.getenv('DB_PASSWORD')}@{os.getenv('DB_HOST')}/{os.getenv('DB_NAME')}?autocommit=true\"\n",
    "# engine = create_engine(connection_string)\n",
    "# engine.connect()\n",
    "\n",
    "# dataframe = pd.read_sql(\"Select * from books;\", engine)\n",
    "# print(dataframe.describe())"
   ]
  },
  {
   "cell_type": "code",
   "execution_count": null,
   "metadata": {},
   "outputs": [],
   "source": [
    "# Example importing the CSV here\n",
    "\n",
    "# dataframe = pd.read_csv('../path/to/file.csv')\n",
    "# dataframe.describe()"
   ]
  }
 ],
 "metadata": {
  "kernelspec": {
   "display_name": "Python 3.8.13 64-bit ('3.8.13')",
   "language": "python",
   "name": "python3"
  },
  "language_info": {
   "codemirror_mode": {
    "name": "ipython",
    "version": 3
   },
   "file_extension": ".py",
   "mimetype": "text/x-python",
   "name": "python",
   "nbconvert_exporter": "python",
   "pygments_lexer": "ipython3",
   "version": "3.10.12"
  },
  "orig_nbformat": 4,
  "vscode": {
   "interpreter": {
    "hash": "110cc1dee26208153f2972f08a2ad52b6a56238dc66d48e87fb757ef2996db56"
   }
  }
 },
 "nbformat": 4,
 "nbformat_minor": 2
}
