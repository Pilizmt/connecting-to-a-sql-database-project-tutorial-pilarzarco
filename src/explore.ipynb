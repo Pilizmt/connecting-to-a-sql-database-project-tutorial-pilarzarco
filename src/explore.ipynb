{
 "cells": [
  {
   "cell_type": "markdown",
   "metadata": {},
   "source": [
    "# Práctica \"TITANIC\""
   ]
  },
  {
   "cell_type": "code",
   "execution_count": 47,
   "metadata": {},
   "outputs": [],
   "source": [
    "# Responder a las siguientes preguntas usando SQL sobre la tabla que acabáis de crear:\n",
    "# Cuántos supervivientes hay (columna Survived)\n",
    "# De todos los pasajeros, cuántos hombres y mujeres hay (columna Sex)\n",
    "# Cuál es el valor del ticket más caro que se compró (columna Fare)\n",
    "\n",
    "import sqlite3 as sq\n",
    "import requests\n",
    "import csv\n",
    "import pandas as pd\n",
    "\n",
    "# Create tables for (https://raw.githubusercontent.com/4GeeksAcademy/machine-learning-content/master/assets/titanic_train.csv)\n",
    "\n",
    "con = sq.connect(\"titanic.db\")\n",
    "\n",
    "df = pd.read_csv(\"https://raw.githubusercontent.com/4GeeksAcademy/machine-learning-content/master/assets/titanic_train.csv\")\n",
    "\n",
    "df.to_sql(\"titanic_data\", con, if_exists=\"replace\", index=False)\n",
    "\n",
    "consulta_insertar = \"INSERT INTO Passenger SELECT * FROM titanic_data\"\n",
    "\n",
    "con.commit()\n",
    "\n",
    "con.close()\n"
   ]
  },
  {
   "cell_type": "code",
   "execution_count": 61,
   "metadata": {},
   "outputs": [
    {
     "data": {
      "text/plain": [
       "<sqlite3.Cursor at 0x7f9f0004a340>"
      ]
     },
     "execution_count": 61,
     "metadata": {},
     "output_type": "execute_result"
    }
   ],
   "source": [
    "con = sq.connect(\"titanic.db\")\n",
    "\n",
    "# Eliminar la tabla existente si existe\n",
    "cursor = con.cursor()\n",
    "cursor.execute(\"DROP TABLE IF EXISTS Passenger\")\n"
   ]
  },
  {
   "cell_type": "code",
   "execution_count": 49,
   "metadata": {},
   "outputs": [],
   "source": [
    "# Crear la tabla:\n",
    "con.execute(\"\"\"CREATE TABLE Passenger (\n",
    "    PassengerId INT PRIMARY KEY,\n",
    "    Survived INT NOT NULL,\n",
    "    Pclass INT NOT NULL,\n",
    "    Name VARCHAR(255) NOT NULL,\n",
    "    Sex VARCHAR(10) NOT NULL,\n",
    "    Age FLOAT NOT NULL,\n",
    "    SibSp INT NOT NULL,\n",
    "    Parch INT NOT NULL,\n",
    "    Ticket VARCHAR(255) NOT NULL,\n",
    "    Fare FLOAT NOT NULL,\n",
    "    Cabin VARCHAR(255),\n",
    "    Embarked VARCHAR(1) NOT NULL\n",
    ")\"\"\")\n",
    "\n",
    "con.commit()\n",
    "\n",
    "con.close()\n"
   ]
  },
  {
   "cell_type": "code",
   "execution_count": 60,
   "metadata": {},
   "outputs": [
    {
     "name": "stdout",
     "output_type": "stream",
     "text": [
      "Número de supervivientes: 342\n"
     ]
    }
   ],
   "source": [
    "con = sq.connect(\"titanic.db\")\n",
    "cursor = con.cursor()\n",
    "\n",
    "cursor.execute(\"SELECT COUNT(*) FROM titanic_data WHERE Survived = 1\")\n",
    "num_supervivientes = cursor.fetchone()[0]\n",
    "print(\"Número de supervivientes:\", num_supervivientes)\n",
    "\n",
    "con.close()\n"
   ]
  },
  {
   "cell_type": "code",
   "execution_count": 59,
   "metadata": {},
   "outputs": [
    {
     "name": "stdout",
     "output_type": "stream",
     "text": [
      "female: 314\n",
      "male: 577\n"
     ]
    }
   ],
   "source": [
    "\n",
    "con = sq.connect(\"titanic.db\")\n",
    "cursor = con.cursor()\n",
    "\n",
    "cursor.execute(\"SELECT Sex, COUNT(*) FROM titanic_data GROUP BY Sex\")\n",
    "generos = cursor.fetchall()\n",
    "for genero in generos:\n",
    "    print(f\"{genero[0]}: {genero[1]}\")\n",
    "\n",
    "con.close()\n"
   ]
  },
  {
   "cell_type": "code",
   "execution_count": 62,
   "metadata": {},
   "outputs": [
    {
     "name": "stdout",
     "output_type": "stream",
     "text": [
      "Valor del ticket más caro: 512.3292\n"
     ]
    }
   ],
   "source": [
    "con = sq.connect(\"titanic.db\")\n",
    "cursor = con.cursor()\n",
    "\n",
    "cursor.execute(\"SELECT MAX(Fare) FROM titanic_data\")\n",
    "ticket_mas_caro = cursor.fetchone()[0]\n",
    "print(\"Valor del ticket más caro:\", ticket_mas_caro)\n",
    "\n",
    "con.close()\n"
   ]
  }
 ],
 "metadata": {
  "kernelspec": {
   "display_name": "Python 3.8.13 64-bit ('3.8.13')",
   "language": "python",
   "name": "python3"
  },
  "language_info": {
   "codemirror_mode": {
    "name": "ipython",
    "version": 3
   },
   "file_extension": ".py",
   "mimetype": "text/x-python",
   "name": "python",
   "nbconvert_exporter": "python",
   "pygments_lexer": "ipython3",
   "version": "3.10.12"
  },
  "orig_nbformat": 4,
  "vscode": {
   "interpreter": {
    "hash": "110cc1dee26208153f2972f08a2ad52b6a56238dc66d48e87fb757ef2996db56"
   }
  }
 },
 "nbformat": 4,
 "nbformat_minor": 2
}
